{
 "cells": [
  {
   "cell_type": "code",
   "execution_count": 17,
   "metadata": {},
   "outputs": [],
   "source": [
    "import torch\n",
    "import torchvision\n",
    "import torch.nn as nn\n",
    "import torch.functional as F\n",
    "import torch.optim as optim\n",
    "import torch.utils.data as data\n",
    "from torchvision.transforms import v2\n",
    "from torchvision.datasets import ImageFolder\n",
    "import numpy as np\n",
    "from matplotlib import pyplot as plt"
   ]
  },
  {
   "cell_type": "code",
   "execution_count": 18,
   "metadata": {},
   "outputs": [],
   "source": [
    "if torch.cuda.is_available():\n",
    "    device = \"cuda\"\n",
    "else:\n",
    "    device = \"cpu\""
   ]
  },
  {
   "cell_type": "code",
   "execution_count": 19,
   "metadata": {},
   "outputs": [
    {
     "data": {
      "text/plain": [
       "88011"
      ]
     },
     "execution_count": 19,
     "metadata": {},
     "output_type": "execute_result"
    }
   ],
   "source": [
    "transform = v2.Compose(\n",
    "    [\n",
    "        v2.ToTensor(),\n",
    "        v2.Normalize([0.5, 0.5, 0.5], [0.5, 0.5, 0.5])\n",
    "    ]\n",
    ")\n",
    "\n",
    "dataset = ImageFolder(\"train/\", transform= transform)\n",
    "len(dataset)"
   ]
  },
  {
   "cell_type": "code",
   "execution_count": 20,
   "metadata": {},
   "outputs": [
    {
     "data": {
      "text/plain": [
       "<torch._C.Generator at 0x2692d0018f0>"
      ]
     },
     "execution_count": 20,
     "metadata": {},
     "output_type": "execute_result"
    }
   ],
   "source": [
    "seed = 892\n",
    "torch.manual_seed(seed)"
   ]
  },
  {
   "cell_type": "code",
   "execution_count": 21,
   "metadata": {},
   "outputs": [
    {
     "name": "stdout",
     "output_type": "stream",
     "text": [
      "511 87500\n"
     ]
    },
    {
     "data": {
      "text/plain": [
       "87"
      ]
     },
     "execution_count": 21,
     "metadata": {},
     "output_type": "execute_result"
    }
   ],
   "source": [
    "batch_size = 1000\n",
    "train_size = 87500\n",
    "\n",
    "val_size = len(dataset) - train_size\n",
    "\n",
    "\n",
    "val_dataset, train_dataset = data.random_split(dataset, lengths=[val_size, train_size])\n",
    "\n",
    "train_loader = data.DataLoader(train_dataset, batch_size=batch_size, shuffle=True, pin_memory=True, drop_last=False, num_workers=1)\n",
    "val_loader = data.DataLoader(val_dataset, batch_size=100, pin_memory=True, num_workers=1)\n",
    "print(len(val_dataset), len(train_dataset))\n",
    "int(len(train_dataset)/batch_size)"
   ]
  },
  {
   "cell_type": "code",
   "execution_count": 22,
   "metadata": {},
   "outputs": [],
   "source": [
    "class ImageClassifierNetwork(nn.Module):\n",
    "\n",
    "    def __init__(self):\n",
    "        super().__init__()\n",
    "        self.loss = nn.CrossEntropyLoss()\n",
    "\n",
    "    def train_step(self, input, labels):\n",
    "        input = input.to(device=device)#, non_blocking=True)\n",
    "        labels = labels.to(device=device)#, non_blocking = True)\n",
    "\n",
    "        preds = self.forward(input)\n",
    "        loss = self.loss(preds, labels)\n",
    "\n",
    "        return loss\n",
    "\n",
    "    def val_step(self, input, labels):\n",
    "\n",
    "        input = input.to(device=device)#, non_blocking=True)\n",
    "        labels = labels.to(device=device)#, non_blocking = True)\n",
    "\n",
    "        preds = self.forward(input)\n",
    "        loss = self.loss(preds, labels)\n",
    "        accuracy = self._accuracy(preds, labels)\n",
    "\n",
    "        return {\"loss\":loss.detach(), \"accuracy\":accuracy}\n",
    "\n",
    "\n",
    "    def val_epoch_end(self, preformance_measurement_data):\n",
    "\n",
    "        accuracy = [x[\"accuracy\"].cpu().numpy() for x in preformance_measurement_data]\n",
    "        avg_accuracy = np.mean(accuracy)\n",
    "\n",
    "        loss = [x[\"loss\"].cpu().numpy() for x in preformance_measurement_data]\n",
    "        avg_loss = np.mean(loss)\n",
    "\n",
    "        return avg_loss, avg_accuracy\n",
    "\n",
    "\n",
    "    def _accuracy(self, preds, labels):\n",
    "        batch_size = len(preds)\n",
    "\n",
    "        pred_indices = torch.argmax(preds, dim=1)\n",
    "        return torch.tensor(torch.sum(pred_indices == labels).item() / batch_size)\n",
    "\n",
    "\n",
    "\n"
   ]
  },
  {
   "cell_type": "code",
   "execution_count": 23,
   "metadata": {},
   "outputs": [],
   "source": [
    "class ResNetBlock(nn.Module):\n",
    "    \"\"\" RestNet block with BN and full pre-activation \"\"\"\n",
    "    def __init__(self, in_channels, out_channels_conv1, out_channels_conv2, kernel_size=[3, 3], stride=[1,1], padding=[1,1]):\n",
    "        super().__init__()\n",
    "\n",
    "        self.network = nn.Sequential(\n",
    "            nn.BatchNorm2d(in_channels),\n",
    "            nn.ReLU(),\n",
    "            nn.Conv2d(in_channels, out_channels_conv1, kernel_size=kernel_size[0], stride=stride[0], padding=padding[0]),\n",
    "            nn.BatchNorm2d(out_channels_conv1), #<------------\n",
    "            nn.ReLU(),\n",
    "            nn.Conv2d(out_channels_conv1, out_channels_conv2, kernel_size=kernel_size[1], stride=stride[1], padding=padding[1])\n",
    "        )\n",
    "\n",
    "\n",
    "    def forward(self, input):\n",
    "        return self.network(input) + input\n",
    "\n",
    "\n",
    "\n",
    "class ResNetBlockChangeDepth(ResNetBlock):\n",
    "    \"\"\" RestNet block with depth resize \"\"\"\n",
    "    def __init__(self, in_channels, out_channels_conv1, out_channels_conv2, res_conv_kernel_size=1, res_conv_stride=1, res_conv_padding=0, kernel_size=[3, 3], stride=[1,1], padding=[1,1]):\n",
    "\n",
    "        super().__init__(in_channels, out_channels_conv1, out_channels_conv2, kernel_size, stride, padding)\n",
    "\n",
    "        self.conv = nn.Conv2d(in_channels, out_channels_conv2, kernel_size=res_conv_kernel_size, stride=res_conv_stride, padding=res_conv_padding)\n",
    "\n",
    "    def forward(self, input):\n",
    "        return self.network(input) + self.conv(input)\n",
    "\n",
    "\n",
    "\n",
    "class Wrapper(nn.Module):\n",
    "    def __init__(self, func):\n",
    "        super().__init__()\n",
    "        self.func = func\n",
    "\n",
    "    def forward(self, x):\n",
    "        return self.func(x)\n"
   ]
  },
  {
   "cell_type": "code",
   "execution_count": 24,
   "metadata": {},
   "outputs": [],
   "source": [
    "class ResNet(ImageClassifierNetwork):\n",
    "\n",
    "    def __init__(self, in_channels, num_classes):\n",
    "        super().__init__()\n",
    "\n",
    "        self.resnet_block1_1 = ResNetBlock(64, 64, 64)\n",
    "        self.resnet_block1_2 = ResNetBlockChangeDepth(64, 128, 128)\n",
    "\n",
    "        self.resnet_block2_1 = ResNetBlock(128, 128, 128)\n",
    "        self.resnet_block2_2 = ResNetBlockChangeDepth(128, 256, 256)\n",
    "        self.resnet_block2_3 = ResNetBlockChangeDepth(256, 256, 256)\n",
    "\n",
    "\n",
    "        self.network = nn.Sequential(\n",
    "\n",
    "            # Prep 3x64x64\n",
    "            nn.Conv2d(in_channels, 32, kernel_size=5, padding=2, bias=False),\n",
    "            nn.BatchNorm2d(32),\n",
    "            nn.ReLU(),\n",
    "            nn.MaxPool2d(2, 2),  # 32x32x32\n",
    "\n",
    "            nn.Conv2d(32, 64, kernel_size=5, padding=2, bias=False),\n",
    "            nn.BatchNorm2d(64),\n",
    "            nn.ReLU(),\n",
    "            nn.MaxPool2d(2, 2), # 64x16x16\n",
    "\n",
    "            Wrapper(self.resnet_block1_1),\n",
    "            Wrapper(self.resnet_block1_2),\n",
    "            nn.MaxPool2d(2, 2), # 128x8x8\n",
    "\n",
    "            Wrapper(self.resnet_block2_1),\n",
    "            Wrapper(self.resnet_block2_2),\n",
    "            Wrapper(self.resnet_block2_3),\n",
    "            nn.BatchNorm2d(256),\n",
    "            nn.ReLU(),\n",
    "            nn.AvgPool2d(2, 2), # 256x4x4\n",
    "\n",
    "            nn.Flatten(),\n",
    "            # Fully connected layer\n",
    "            nn.Linear(4*1024, num_classes),\n",
    "\n",
    "        )\n",
    "\n",
    "\n",
    "    def forward(self, input):\n",
    "        return self.network(input)"
   ]
  },
  {
   "cell_type": "code",
   "execution_count": 25,
   "metadata": {},
   "outputs": [],
   "source": [
    "# 2nd architecture, not used\n",
    "class ResNet2(ImageClassifierNetwork):\n",
    "\n",
    "    def __init__(self, in_channels, num_classes):\n",
    "        super().__init__()\n",
    "\n",
    "        self.resnet_block1_1 = ResNetBlock(32, 32, 32)\n",
    "        self.resnet_block1_3 = ResNetBlockChangeDepth(32, 64, 64)\n",
    "\n",
    "        self.resnet_block2_1 = ResNetBlock(64, 64, 64)\n",
    "        self.resnet_block2_3 = ResNetBlockChangeDepth(64, 128, 128)\n",
    "\n",
    "        self.resnet_block3_1 = ResNetBlock(128, 128, 128)\n",
    "        self.resnet_block3_2 = ResNetBlockChangeDepth(128, 256, 256)\n",
    "\n",
    "        self.resnet_block4_1 = ResNetBlock(256, 256, 256)\n",
    "        self.resnet_block4_2 = ResNetBlockChangeDepth(256, 512, 512)\n",
    "\n",
    "\n",
    "\n",
    "        self.network = nn.Sequential(\n",
    "\n",
    "            # Prep 3x64x64\n",
    "            nn.Conv2d(in_channels, 32, kernel_size=5, padding=2, bias=False),\n",
    "            nn.BatchNorm2d(32),\n",
    "            nn.ReLU(),\n",
    "            nn.MaxPool2d(2, 2),  # 32x32x32\n",
    "\n",
    "            Wrapper(self.resnet_block1_1),\n",
    "            Wrapper(self.resnet_block1_3),\n",
    "            nn.MaxPool2d(2, 2),  # 64x16x16\n",
    "\n",
    "            Wrapper(self.resnet_block2_1),\n",
    "            Wrapper(self.resnet_block2_3),\n",
    "            nn.MaxPool2d(2, 2), # 128x8x8\n",
    "\n",
    "            Wrapper(self.resnet_block3_1),\n",
    "            Wrapper(self.resnet_block3_2),\n",
    "            nn.MaxPool2d(2, 2), # 256x4x4\n",
    "\n",
    "            Wrapper(self.resnet_block4_1),\n",
    "            Wrapper(self.resnet_block4_2),\n",
    "            nn.BatchNorm2d(512),\n",
    "            nn.ReLU(),\n",
    "            nn.AvgPool2d(2, 2), # 512x2x2\n",
    "\n",
    "            nn.Flatten(),\n",
    "            # Fully connected layer\n",
    "            nn.Linear(2048, num_classes),\n",
    "\n",
    "        )\n",
    "\n",
    "\n",
    "    def forward(self, input):\n",
    "        return self.network(input)"
   ]
  },
  {
   "cell_type": "code",
   "execution_count": 26,
   "metadata": {},
   "outputs": [
    {
     "data": {
      "text/plain": [
       "ResNet(\n",
       "  (loss): CrossEntropyLoss()\n",
       "  (resnet_block1_1): ResNetBlock(\n",
       "    (network): Sequential(\n",
       "      (0): BatchNorm2d(64, eps=1e-05, momentum=0.1, affine=True, track_running_stats=True)\n",
       "      (1): ReLU()\n",
       "      (2): Conv2d(64, 64, kernel_size=(3, 3), stride=(1, 1), padding=(1, 1))\n",
       "      (3): BatchNorm2d(64, eps=1e-05, momentum=0.1, affine=True, track_running_stats=True)\n",
       "      (4): ReLU()\n",
       "      (5): Conv2d(64, 64, kernel_size=(3, 3), stride=(1, 1), padding=(1, 1))\n",
       "    )\n",
       "  )\n",
       "  (resnet_block1_2): ResNetBlockChangeDepth(\n",
       "    (network): Sequential(\n",
       "      (0): BatchNorm2d(64, eps=1e-05, momentum=0.1, affine=True, track_running_stats=True)\n",
       "      (1): ReLU()\n",
       "      (2): Conv2d(64, 128, kernel_size=(3, 3), stride=(1, 1), padding=(1, 1))\n",
       "      (3): BatchNorm2d(128, eps=1e-05, momentum=0.1, affine=True, track_running_stats=True)\n",
       "      (4): ReLU()\n",
       "      (5): Conv2d(128, 128, kernel_size=(3, 3), stride=(1, 1), padding=(1, 1))\n",
       "    )\n",
       "    (conv): Conv2d(64, 128, kernel_size=(1, 1), stride=(1, 1))\n",
       "  )\n",
       "  (resnet_block2_1): ResNetBlock(\n",
       "    (network): Sequential(\n",
       "      (0): BatchNorm2d(128, eps=1e-05, momentum=0.1, affine=True, track_running_stats=True)\n",
       "      (1): ReLU()\n",
       "      (2): Conv2d(128, 128, kernel_size=(3, 3), stride=(1, 1), padding=(1, 1))\n",
       "      (3): BatchNorm2d(128, eps=1e-05, momentum=0.1, affine=True, track_running_stats=True)\n",
       "      (4): ReLU()\n",
       "      (5): Conv2d(128, 128, kernel_size=(3, 3), stride=(1, 1), padding=(1, 1))\n",
       "    )\n",
       "  )\n",
       "  (resnet_block2_2): ResNetBlockChangeDepth(\n",
       "    (network): Sequential(\n",
       "      (0): BatchNorm2d(128, eps=1e-05, momentum=0.1, affine=True, track_running_stats=True)\n",
       "      (1): ReLU()\n",
       "      (2): Conv2d(128, 256, kernel_size=(3, 3), stride=(1, 1), padding=(1, 1))\n",
       "      (3): BatchNorm2d(256, eps=1e-05, momentum=0.1, affine=True, track_running_stats=True)\n",
       "      (4): ReLU()\n",
       "      (5): Conv2d(256, 256, kernel_size=(3, 3), stride=(1, 1), padding=(1, 1))\n",
       "    )\n",
       "    (conv): Conv2d(128, 256, kernel_size=(1, 1), stride=(1, 1))\n",
       "  )\n",
       "  (resnet_block2_3): ResNetBlockChangeDepth(\n",
       "    (network): Sequential(\n",
       "      (0): BatchNorm2d(256, eps=1e-05, momentum=0.1, affine=True, track_running_stats=True)\n",
       "      (1): ReLU()\n",
       "      (2): Conv2d(256, 256, kernel_size=(3, 3), stride=(1, 1), padding=(1, 1))\n",
       "      (3): BatchNorm2d(256, eps=1e-05, momentum=0.1, affine=True, track_running_stats=True)\n",
       "      (4): ReLU()\n",
       "      (5): Conv2d(256, 256, kernel_size=(3, 3), stride=(1, 1), padding=(1, 1))\n",
       "    )\n",
       "    (conv): Conv2d(256, 256, kernel_size=(1, 1), stride=(1, 1))\n",
       "  )\n",
       "  (network): Sequential(\n",
       "    (0): Conv2d(3, 32, kernel_size=(5, 5), stride=(1, 1), padding=(2, 2), bias=False)\n",
       "    (1): BatchNorm2d(32, eps=1e-05, momentum=0.1, affine=True, track_running_stats=True)\n",
       "    (2): ReLU()\n",
       "    (3): MaxPool2d(kernel_size=2, stride=2, padding=0, dilation=1, ceil_mode=False)\n",
       "    (4): Conv2d(32, 64, kernel_size=(5, 5), stride=(1, 1), padding=(2, 2), bias=False)\n",
       "    (5): BatchNorm2d(64, eps=1e-05, momentum=0.1, affine=True, track_running_stats=True)\n",
       "    (6): ReLU()\n",
       "    (7): MaxPool2d(kernel_size=2, stride=2, padding=0, dilation=1, ceil_mode=False)\n",
       "    (8): Wrapper(\n",
       "      (func): ResNetBlock(\n",
       "        (network): Sequential(\n",
       "          (0): BatchNorm2d(64, eps=1e-05, momentum=0.1, affine=True, track_running_stats=True)\n",
       "          (1): ReLU()\n",
       "          (2): Conv2d(64, 64, kernel_size=(3, 3), stride=(1, 1), padding=(1, 1))\n",
       "          (3): BatchNorm2d(64, eps=1e-05, momentum=0.1, affine=True, track_running_stats=True)\n",
       "          (4): ReLU()\n",
       "          (5): Conv2d(64, 64, kernel_size=(3, 3), stride=(1, 1), padding=(1, 1))\n",
       "        )\n",
       "      )\n",
       "    )\n",
       "    (9): Wrapper(\n",
       "      (func): ResNetBlockChangeDepth(\n",
       "        (network): Sequential(\n",
       "          (0): BatchNorm2d(64, eps=1e-05, momentum=0.1, affine=True, track_running_stats=True)\n",
       "          (1): ReLU()\n",
       "          (2): Conv2d(64, 128, kernel_size=(3, 3), stride=(1, 1), padding=(1, 1))\n",
       "          (3): BatchNorm2d(128, eps=1e-05, momentum=0.1, affine=True, track_running_stats=True)\n",
       "          (4): ReLU()\n",
       "          (5): Conv2d(128, 128, kernel_size=(3, 3), stride=(1, 1), padding=(1, 1))\n",
       "        )\n",
       "        (conv): Conv2d(64, 128, kernel_size=(1, 1), stride=(1, 1))\n",
       "      )\n",
       "    )\n",
       "    (10): MaxPool2d(kernel_size=2, stride=2, padding=0, dilation=1, ceil_mode=False)\n",
       "    (11): Wrapper(\n",
       "      (func): ResNetBlock(\n",
       "        (network): Sequential(\n",
       "          (0): BatchNorm2d(128, eps=1e-05, momentum=0.1, affine=True, track_running_stats=True)\n",
       "          (1): ReLU()\n",
       "          (2): Conv2d(128, 128, kernel_size=(3, 3), stride=(1, 1), padding=(1, 1))\n",
       "          (3): BatchNorm2d(128, eps=1e-05, momentum=0.1, affine=True, track_running_stats=True)\n",
       "          (4): ReLU()\n",
       "          (5): Conv2d(128, 128, kernel_size=(3, 3), stride=(1, 1), padding=(1, 1))\n",
       "        )\n",
       "      )\n",
       "    )\n",
       "    (12): Wrapper(\n",
       "      (func): ResNetBlockChangeDepth(\n",
       "        (network): Sequential(\n",
       "          (0): BatchNorm2d(128, eps=1e-05, momentum=0.1, affine=True, track_running_stats=True)\n",
       "          (1): ReLU()\n",
       "          (2): Conv2d(128, 256, kernel_size=(3, 3), stride=(1, 1), padding=(1, 1))\n",
       "          (3): BatchNorm2d(256, eps=1e-05, momentum=0.1, affine=True, track_running_stats=True)\n",
       "          (4): ReLU()\n",
       "          (5): Conv2d(256, 256, kernel_size=(3, 3), stride=(1, 1), padding=(1, 1))\n",
       "        )\n",
       "        (conv): Conv2d(128, 256, kernel_size=(1, 1), stride=(1, 1))\n",
       "      )\n",
       "    )\n",
       "    (13): Wrapper(\n",
       "      (func): ResNetBlockChangeDepth(\n",
       "        (network): Sequential(\n",
       "          (0): BatchNorm2d(256, eps=1e-05, momentum=0.1, affine=True, track_running_stats=True)\n",
       "          (1): ReLU()\n",
       "          (2): Conv2d(256, 256, kernel_size=(3, 3), stride=(1, 1), padding=(1, 1))\n",
       "          (3): BatchNorm2d(256, eps=1e-05, momentum=0.1, affine=True, track_running_stats=True)\n",
       "          (4): ReLU()\n",
       "          (5): Conv2d(256, 256, kernel_size=(3, 3), stride=(1, 1), padding=(1, 1))\n",
       "        )\n",
       "        (conv): Conv2d(256, 256, kernel_size=(1, 1), stride=(1, 1))\n",
       "      )\n",
       "    )\n",
       "    (14): BatchNorm2d(256, eps=1e-05, momentum=0.1, affine=True, track_running_stats=True)\n",
       "    (15): ReLU()\n",
       "    (16): AvgPool2d(kernel_size=2, stride=2, padding=0)\n",
       "    (17): Flatten(start_dim=1, end_dim=-1)\n",
       "    (18): Linear(in_features=4096, out_features=50, bias=True)\n",
       "  )\n",
       ")"
      ]
     },
     "execution_count": 26,
     "metadata": {},
     "output_type": "execute_result"
    }
   ],
   "source": [
    "model = ResNet(3, 50)\n",
    "# model.load_state_dict(torch.load(\"30epoch_extended_with_agumentation_model1_70acc.pt\"))\n",
    "\n",
    "model.to(device)"
   ]
  },
  {
   "cell_type": "code",
   "execution_count": 27,
   "metadata": {},
   "outputs": [],
   "source": [
    "# RestNet +- 7epoch;; RestNet_2 +- 10epoch \"||\" z agumentacją + 30epch RestNet2\n",
    "epoch = 60\n",
    "\n",
    "optimizer = torch.optim.Adam(model.parameters(), lr=1e-3, weight_decay=1e-4)\n",
    "lr_scheduler = optim.lr_scheduler.OneCycleLR(optimizer, 5e-3, epochs=epoch, steps_per_epoch=int((len(train_dataset)/batch_size) + 1))"
   ]
  },
  {
   "cell_type": "code",
   "execution_count": 28,
   "metadata": {},
   "outputs": [
    {
     "data": {
      "text/plain": [
       "3025106"
      ]
     },
     "execution_count": 28,
     "metadata": {},
     "output_type": "execute_result"
    }
   ],
   "source": [
    "params_sum = 0\n",
    "for params in model.parameters():\n",
    "    params_sum+=params.view(-1).size(0)\n",
    "params_sum"
   ]
  },
  {
   "cell_type": "code",
   "execution_count": 29,
   "metadata": {},
   "outputs": [],
   "source": [
    "def eval(val_loader):\n",
    "    with(torch.no_grad()):\n",
    "        history = []\n",
    "        for input, label in val_loader:\n",
    "            history += [model.val_step(input, label)]\n",
    "\n",
    "        loss_val, acc_val = model.val_epoch_end(history)\n",
    "\n",
    "        return loss_val, acc_val"
   ]
  },
  {
   "cell_type": "code",
   "execution_count": 30,
   "metadata": {},
   "outputs": [],
   "source": [
    "torch.manual_seed(seed=torch.initial_seed())\n",
    "\n",
    "transform = v2.RandomChoice(\n",
    "    [\n",
    "    v2.RandomHorizontalFlip(0.5),\n",
    "    v2.RandomVerticalFlip(0.5),\n",
    "    v2.RandomRotation(degrees=(20, 60)),\n",
    "    v2.RandomPerspective(distortion_scale=.3),\n",
    "\n",
    "    v2.RandomErasing(0.5),\n",
    "\n",
    "    v2.RandomInvert(0.5),\n",
    "    ]\n",
    ")"
   ]
  },
  {
   "cell_type": "code",
   "execution_count": 31,
   "metadata": {},
   "outputs": [],
   "source": [
    "def train(train_dataloader, epoch):\n",
    "    model.train(mode=True)\n",
    "\n",
    "    epoch_loss_T = []\n",
    "    batch_loss_T = []\n",
    "    epoch_loss_V = []\n",
    "    epoch_acc_V = []\n",
    "\n",
    "\n",
    "    for ep in range(epoch):\n",
    "\n",
    "        for input, label in train_dataloader:\n",
    "\n",
    "            input = transform(input)\n",
    "            loss = model.train_step(input, label)\n",
    "\n",
    "            optimizer.zero_grad()\n",
    "            loss.backward()\n",
    "\n",
    "            optimizer.step()\n",
    "            lr_scheduler.step()\n",
    "\n",
    "            batch_loss_T += [loss.item()]\n",
    "\n",
    "        epoch_loss_T += [np.mean(batch_loss_T)]\n",
    "        batch_loss_T = []\n",
    "\n",
    "        loss_val, acc_val = eval(val_loader)\n",
    "        epoch_loss_V += [loss_val]\n",
    "        epoch_acc_V += [acc_val]\n",
    "\n",
    "        print(f'Epoch {ep+1}; TLoss: {epoch_loss_T[ep]}; Vloss: {loss_val}; Acc: {acc_val}')\n",
    "\n",
    "\n",
    "    model.eval()\n",
    "    return epoch_loss_T, epoch_loss_V, epoch_acc_V"
   ]
  },
  {
   "cell_type": "code",
   "execution_count": 32,
   "metadata": {},
   "outputs": [],
   "source": [
    "loss_T, loss_V, acc_V = train(train_loader, epoch)"
   ]
  },
  {
   "cell_type": "code",
   "execution_count": null,
   "metadata": {},
   "outputs": [
    {
     "data": {
      "image/png": "[encoded data removed]",
      "text/plain": [
       "<Figure size 640x480 with 1 Axes>"
      ]
     },
     "metadata": {},
     "output_type": "display_data"
    },
    {
     "data": {
      "image/png": "[encoded data removed]",
      "text/plain": [
       "<Figure size 640x480 with 1 Axes>"
      ]
     },
     "metadata": {},
     "output_type": "display_data"
    }
   ],
   "source": [
    "def plot_results(loss_T, loss_V, acc_V):\n",
    "\n",
    "    # fig = plt.figure\n",
    "    plt.plot(loss_T, label=\"Train\")\n",
    "    plt.plot(loss_V, label=\"Val\")\n",
    "    plt.title(\"Loss\")\n",
    "    plt.legend()\n",
    "    plt.show()\n",
    "\n",
    "    # fig2 = plt.figure\n",
    "    plt.plot(acc_V, label=\"Accuracy\")\n",
    "    plt.legend()\n",
    "    plt.show()\n",
    "\n",
    "plot_results(loss_T, loss_V, acc_V)"
   ]
  },
  {
   "cell_type": "code",
   "execution_count": null,
   "metadata": {},
   "outputs": [],
   "source": [
    "torch.save(model.state_dict(), \"60epoch_Standard_FINAL.pt\")\n",
    "#"
   ]
  },
  {
   "cell_type": "code",
   "execution_count": null,
   "metadata": {},
   "outputs": [],
   "source": [
    "# model = ResNet(3, 50)\n",
    "# model.load_state_dict(torch.load(\"test_model.pt\"))\n"
   ]
  }
 ],
 "metadata": {
  "kernelspec": {
   "display_name": "Python 3",
   "language": "python",
   "name": "python3"
  },
  "language_info": {
   "codemirror_mode": {
    "name": "ipython",
    "version": 3
   },
   "file_extension": ".py",
   "mimetype": "text/x-python",
   "name": "python",
   "nbconvert_exporter": "python",
   "pygments_lexer": "ipython3",
   "version": "3.11.3"
  }
 },
 "nbformat": 4,
 "nbformat_minor": 2
}
