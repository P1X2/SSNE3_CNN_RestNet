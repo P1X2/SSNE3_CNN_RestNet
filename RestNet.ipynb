{
 "cells": [
  {
   "cell_type": "code",
   "execution_count": 71,
   "metadata": {},
   "outputs": [],
   "source": [
    "import torch\n",
    "import torchvision\n",
    "import torch.nn as nn\n",
    "import torch.functional as F\n",
    "import torch.optim as optim\n",
    "import torch.utils.data as data\n",
    "import torchvision.transforms as transforms\n",
    "from torchvision.datasets import ImageFolder\n",
    "import numpy as np"
   ]
  },
  {
   "cell_type": "code",
   "execution_count": 72,
   "metadata": {},
   "outputs": [],
   "source": [
    "if torch.cuda.is_available():\n",
    "    device = \"cuda\"\n",
    "else:\n",
    "    device = \"cpu\""
   ]
  },
  {
   "cell_type": "code",
   "execution_count": 73,
   "metadata": {},
   "outputs": [],
   "source": [
    "transform = transforms.Compose(\n",
    "    [\n",
    "        transforms.ToTensor(),\n",
    "        transforms.Normalize([0.5, 0.5, 0.5], [0.5, 0.5, 0.5])\n",
    "    ]\n",
    ")\n",
    "\n",
    "dataset = ImageFolder(\"train/\", transform= transform)"
   ]
  },
  {
   "cell_type": "code",
   "execution_count": 74,
   "metadata": {},
   "outputs": [
    {
     "data": {
      "text/plain": [
       "<torch._C.Generator at 0x1f7e131dc70>"
      ]
     },
     "execution_count": 74,
     "metadata": {},
     "output_type": "execute_result"
    }
   ],
   "source": [
    "seed = 8912\n",
    "torch.manual_seed(seed)"
   ]
  },
  {
   "cell_type": "code",
   "execution_count": 75,
   "metadata": {},
   "outputs": [
    {
     "name": "stdout",
     "output_type": "stream",
     "text": [
      "13500 74511\n"
     ]
    }
   ],
   "source": [
    "val_size = 13500\n",
    "train_size = len(dataset) - val_size\n",
    "\n",
    "val_dataset, train_dataset = data.random_split(dataset, lengths=[val_size, train_size])\n",
    "\n",
    "train_loader = data.DataLoader(train_dataset, batch_size=500, shuffle=True, pin_memory=True, num_workers=2)\n",
    "val_loader = data.DataLoader(val_dataset, batch_size=500, pin_memory=True, num_workers=2)\n",
    "print(len(val_dataset), len(train_dataset))"
   ]
  },
  {
   "cell_type": "code",
   "execution_count": 76,
   "metadata": {},
   "outputs": [],
   "source": [
    "class ImageClassifierNetwork(nn.Module):\n",
    "\n",
    "    def __init__(self):\n",
    "        super().__init__()\n",
    "        self.loss = nn.CrossEntropyLoss()\n",
    "\n",
    "    def train_step(self, input, labels):\n",
    "\n",
    "        input = input.to(device=device, non_blocking=True)\n",
    "        labels = labels.to(device=device, non_blocking = True)\n",
    "\n",
    "        preds = self.forward(input)\n",
    "        loss = self.loss(preds, labels)\n",
    "\n",
    "        return loss\n",
    "\n",
    "    def val_step(self, input, labels):\n",
    "\n",
    "        input = input.to(device=device, non_blocking=True)\n",
    "        labels = labels.to(device=device, non_blocking = True)\n",
    "\n",
    "        preds = self.forward(input)\n",
    "        loss = self.loss(input, labels)\n",
    "        accuracy = self._accuracy(preds, labels)\n",
    "\n",
    "        return {\"loss\":loss, \"accuracy\":accuracy}\n",
    "\n",
    "\n",
    "    def val_epoch_end(self, preformance_measurement_data):\n",
    "\n",
    "        accuracy = [x[\"accuracy\"].numpy() for x in preformance_measurement_data]\n",
    "        avg_accuracy = np.mean(accuracy)\n",
    "\n",
    "        loss = [x[\"loss\"].numpy() for x in preformance_measurement_data]\n",
    "        avg_loss = np.mean(loss)\n",
    "\n",
    "        return {\"loss\":{avg_loss}, \"accuracy\": avg_accuracy}\n",
    "\n",
    "\n",
    "    def _accuracy(self, preds, labels):\n",
    "        batch_size = len(preds)\n",
    "\n",
    "        pred_indices = torch.argmax(preds, dim=1)\n",
    "        return torch.tensor(torch.sum(pred_indices == labels).item() / batch_size)\n",
    "\n",
    "\n",
    "\n"
   ]
  },
  {
   "cell_type": "code",
   "execution_count": 77,
   "metadata": {},
   "outputs": [],
   "source": [
    "class ResNetBlock(nn.Module):\n",
    "    \"\"\" RestNet block with BN and full pre-activation \"\"\"\n",
    "    def __init__(self, in_channels, kernel_size, stride, padding):\n",
    "        super().__init__()\n",
    "\n",
    "        self.network = nn.Sequential(\n",
    "            nn.BatchNorm2d(in_channels),\n",
    "            nn.ReLU(),\n",
    "            nn.Conv2d(in_channels, in_channels, kernel_size=kernel_size, stride=stride, padding=padding),\n",
    "            nn.BatchNorm2d(in_channels),\n",
    "            nn.ReLU(),\n",
    "            nn.Conv2d(in_channels, in_channels, kernel_size=kernel_size, stride=stride, padding=padding)\n",
    "        )\n",
    "\n",
    "\n",
    "    def forward(self, input):\n",
    "        return self(input) + input\n"
   ]
  },
  {
   "cell_type": "code",
   "execution_count": 78,
   "metadata": {},
   "outputs": [],
   "source": [
    "class ResNet(ImageClassifierNetwork):\n",
    "\n",
    "    def __init__(self):\n",
    "        super().__init__()\n",
    "\n",
    "        self.network = nn.Sequential(\n",
    "\n",
    "\n",
    "\n",
    "\n",
    "\n",
    "\n",
    "\n",
    "\n",
    "\n",
    "\n",
    "\n",
    "\n",
    "\n",
    "\n",
    "\n",
    "\n",
    "        )\n",
    "\n",
    "\n",
    "\n"
   ]
  },
  {
   "cell_type": "code",
   "execution_count": 79,
   "metadata": {},
   "outputs": [],
   "source": [
    "nn = Network()"
   ]
  }
 ],
 "metadata": {
  "kernelspec": {
   "display_name": "Python 3",
   "language": "python",
   "name": "python3"
  },
  "language_info": {
   "codemirror_mode": {
    "name": "ipython",
    "version": 3
   },
   "file_extension": ".py",
   "mimetype": "text/x-python",
   "name": "python",
   "nbconvert_exporter": "python",
   "pygments_lexer": "ipython3",
   "version": "3.11.3"
  }
 },
 "nbformat": 4,
 "nbformat_minor": 2
}
