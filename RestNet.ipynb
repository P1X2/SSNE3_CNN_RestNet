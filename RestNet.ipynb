{
 "cells": [
  {
   "cell_type": "code",
   "execution_count": 46,
   "metadata": {},
   "outputs": [],
   "source": [
    "import torch\n",
    "import torchvision\n",
    "import torch.nn as nn\n",
    "import torch.optim as optim\n",
    "import torch.utils.data as data\n",
    "from torchvision.transforms import transforms\n",
    "from torchvision.datasets import ImageFolder\n",
    "import numpy as np\n",
    "from matplotlib import pyplot as plt\n",
    "import os\n",
    "import csv\n",
    "from PIL import Image"
   ]
  },
  {
   "cell_type": "code",
   "execution_count": 47,
   "metadata": {},
   "outputs": [],
   "source": [
    "if torch.cuda.is_available():\n",
    "    device = \"cuda\"\n",
    "else:\n",
    "    device = \"cpu\""
   ]
  },
  {
   "cell_type": "code",
   "execution_count": 48,
   "metadata": {},
   "outputs": [
    {
     "data": {
      "text/plain": [
       "88011"
      ]
     },
     "execution_count": 48,
     "metadata": {},
     "output_type": "execute_result"
    }
   ],
   "source": [
    "transform = transforms.Compose(\n",
    "    [\n",
    "        transforms.ToTensor(),\n",
    "        transforms.Normalize([0.5, 0.5, 0.5], [0.5, 0.5, 0.5])\n",
    "    ]\n",
    ")\n",
    "\n",
    "dataset = ImageFolder(\"train/\", transform= transform)\n",
    "len(dataset)"
   ]
  },
  {
   "cell_type": "code",
   "execution_count": 49,
   "metadata": {},
   "outputs": [
    {
     "data": {
      "text/plain": [
       "<torch._C.Generator at 0x1d2551b18d0>"
      ]
     },
     "execution_count": 49,
     "metadata": {},
     "output_type": "execute_result"
    }
   ],
   "source": [
    "seed = 892\n",
    "torch.manual_seed(seed)"
   ]
  },
  {
   "cell_type": "code",
   "execution_count": 50,
   "metadata": {},
   "outputs": [
    {
     "data": {
      "text/plain": [
       "88"
      ]
     },
     "execution_count": 50,
     "metadata": {},
     "output_type": "execute_result"
    }
   ],
   "source": [
    "batch_size = 1000\n",
    "train_size = 79000\n",
    "val_size = len(dataset) - train_size\n",
    "\n",
    "val_dataset, train_dataset = data.random_split(dataset, lengths=[val_size, train_size])\n",
    "full = data.DataLoader(dataset, batch_size, pin_memory=True, num_workers=1, shuffle=True, drop_last=True)\n",
    "\n",
    "train_loader = data.DataLoader(train_dataset, batch_size=batch_size, shuffle=True, pin_memory=True, drop_last=False, num_workers=1)\n",
    "val_loader = data.DataLoader(val_dataset, batch_size=batch_size, pin_memory=True, num_workers=1)\n",
    "int(len(dataset)/batch_size)"
   ]
  },
  {
   "cell_type": "code",
   "execution_count": 51,
   "metadata": {},
   "outputs": [],
   "source": [
    "class ImageClassifierNetwork(nn.Module):\n",
    "\n",
    "    def __init__(self):\n",
    "        super().__init__()\n",
    "        self.loss = nn.CrossEntropyLoss()\n",
    "\n",
    "    def train_step(self, input, labels):\n",
    "        input = input.to(device=device)\n",
    "        labels = labels.to(device=device)\n",
    "\n",
    "        preds = self.forward(input)\n",
    "        loss = self.loss(preds, labels)\n",
    "\n",
    "        return loss\n",
    "\n",
    "    def val_step(self, input, labels):\n",
    "\n",
    "        input = input.to(device=device)\n",
    "        labels = labels.to(device=device)\n",
    "\n",
    "        preds = self.forward(input)\n",
    "        loss = self.loss(preds, labels)\n",
    "        accuracy = self._accuracy(preds, labels)\n",
    "\n",
    "        return {\"loss\":loss.detach(), \"accuracy\":accuracy}\n",
    "\n",
    "\n",
    "    def val_epoch_end(self, preformance_measurement_data):\n",
    "\n",
    "        accuracy = [x[\"accuracy\"].cpu().numpy() for x in preformance_measurement_data]\n",
    "        avg_accuracy = np.mean(accuracy)\n",
    "\n",
    "        loss = [x[\"loss\"].cpu().numpy() for x in preformance_measurement_data]\n",
    "        avg_loss = np.mean(loss)\n",
    "\n",
    "        return avg_loss, avg_accuracy\n",
    "\n",
    "\n",
    "    def _accuracy(self, preds, labels):\n",
    "        batch_size = len(preds)\n",
    "\n",
    "        pred_indices = torch.argmax(preds, dim=1)\n",
    "        return torch.tensor(torch.sum(pred_indices == labels).item() / batch_size)\n",
    "\n",
    "\n",
    "\n"
   ]
  },
  {
   "cell_type": "code",
   "execution_count": 52,
   "metadata": {},
   "outputs": [],
   "source": [
    "class ResNetBlock(nn.Module):\n",
    "    \"\"\" RestNet block with BN and full pre-activation \"\"\"\n",
    "    def __init__(self, in_channels, out_channels_conv1, out_channels_conv2, kernel_size=[3, 3], stride=[1,1], padding=[1,1]):\n",
    "        super().__init__()\n",
    "\n",
    "        self.network = nn.Sequential(\n",
    "            nn.BatchNorm2d(in_channels),\n",
    "            nn.ReLU(),\n",
    "            nn.Conv2d(in_channels, out_channels_conv1, kernel_size=kernel_size[0], stride=stride[0], padding=padding[0]),\n",
    "            nn.BatchNorm2d(out_channels_conv1),\n",
    "            nn.ReLU(),\n",
    "            nn.Conv2d(out_channels_conv1, out_channels_conv2, kernel_size=kernel_size[1], stride=stride[1], padding=padding[1])\n",
    "        )\n",
    "\n",
    "\n",
    "    def forward(self, input):\n",
    "        return self.network(input) + input\n",
    "\n",
    "\n",
    "\n",
    "class ResNetBlockChangeDepth(ResNetBlock):\n",
    "    \"\"\" RestNet block with depth resize \"\"\"\n",
    "    def __init__(self, in_channels, out_channels_conv1, out_channels_conv2, res_conv_kernel_size=1, res_conv_stride=1, res_conv_padding=0, kernel_size=[3, 3], stride=[1,1], padding=[1,1]):\n",
    "\n",
    "        super().__init__(in_channels, out_channels_conv1, out_channels_conv2, kernel_size, stride, padding)\n",
    "\n",
    "        self.conv = nn.Conv2d(in_channels, out_channels_conv2, kernel_size=res_conv_kernel_size, stride=res_conv_stride, padding=res_conv_padding)\n",
    "\n",
    "    def forward(self, input):\n",
    "        return self.network(input) + self.conv(input)\n",
    "\n",
    "\n",
    "\n",
    "class Wrapper(nn.Module):\n",
    "    def __init__(self, func):\n",
    "        super().__init__()\n",
    "        self.func = func\n",
    "\n",
    "    def forward(self, x):\n",
    "        return self.func(x)\n"
   ]
  },
  {
   "cell_type": "code",
   "execution_count": 53,
   "metadata": {},
   "outputs": [],
   "source": [
    "class ResNet(ImageClassifierNetwork):\n",
    "\n",
    "    def __init__(self, in_channels, num_classes):\n",
    "        super().__init__()\n",
    "\n",
    "        self.resnet_block1_1 = ResNetBlock(64, 64, 64)\n",
    "        self.resnet_block1_2 = ResNetBlockChangeDepth(64, 128, 128)\n",
    "\n",
    "        self.resnet_block2_1 = ResNetBlock(128, 128, 128)\n",
    "        self.resnet_block2_2 = ResNetBlockChangeDepth(128, 256, 256)\n",
    "        self.resnet_block2_3 = ResNetBlockChangeDepth(256, 256, 256)\n",
    "\n",
    "\n",
    "        self.network = nn.Sequential(\n",
    "\n",
    "            # Prep 3x64x64\n",
    "            nn.Conv2d(in_channels, 32, kernel_size=5, padding=2, bias=False),\n",
    "            nn.BatchNorm2d(32),\n",
    "            nn.ReLU(),\n",
    "            nn.MaxPool2d(2, 2),  # 32x32x32\n",
    "\n",
    "            nn.Conv2d(32, 64, kernel_size=5, padding=2, bias=False),\n",
    "            nn.BatchNorm2d(64),\n",
    "            nn.ReLU(),\n",
    "            nn.MaxPool2d(2, 2), # 64x16x16\n",
    "\n",
    "            Wrapper(self.resnet_block1_1),\n",
    "            Wrapper(self.resnet_block1_2),\n",
    "            nn.MaxPool2d(2, 2), # 128x8x8\n",
    "\n",
    "            Wrapper(self.resnet_block2_1),\n",
    "            Wrapper(self.resnet_block2_2),\n",
    "            Wrapper(self.resnet_block2_3),\n",
    "            nn.BatchNorm2d(256),\n",
    "            nn.ReLU(),\n",
    "            nn.AvgPool2d(2, 2), # 256x4x4\n",
    "\n",
    "            nn.Flatten(),\n",
    "            # Fully connected layer\n",
    "            nn.Linear(4*1024, num_classes),\n",
    "\n",
    "        )\n",
    "\n",
    "\n",
    "    def forward(self, input):\n",
    "        return self.network(input)"
   ]
  },
  {
   "cell_type": "code",
   "execution_count": 54,
   "metadata": {},
   "outputs": [
    {
     "data": {
      "text/plain": [
       "ResNet(\n",
       "  (loss): CrossEntropyLoss()\n",
       "  (resnet_block1_1): ResNetBlock(\n",
       "    (network): Sequential(\n",
       "      (0): BatchNorm2d(64, eps=1e-05, momentum=0.1, affine=True, track_running_stats=True)\n",
       "      (1): ReLU()\n",
       "      (2): Conv2d(64, 64, kernel_size=(3, 3), stride=(1, 1), padding=(1, 1))\n",
       "      (3): BatchNorm2d(64, eps=1e-05, momentum=0.1, affine=True, track_running_stats=True)\n",
       "      (4): ReLU()\n",
       "      (5): Conv2d(64, 64, kernel_size=(3, 3), stride=(1, 1), padding=(1, 1))\n",
       "    )\n",
       "  )\n",
       "  (resnet_block1_2): ResNetBlockChangeDepth(\n",
       "    (network): Sequential(\n",
       "      (0): BatchNorm2d(64, eps=1e-05, momentum=0.1, affine=True, track_running_stats=True)\n",
       "      (1): ReLU()\n",
       "      (2): Conv2d(64, 128, kernel_size=(3, 3), stride=(1, 1), padding=(1, 1))\n",
       "      (3): BatchNorm2d(128, eps=1e-05, momentum=0.1, affine=True, track_running_stats=True)\n",
       "      (4): ReLU()\n",
       "      (5): Conv2d(128, 128, kernel_size=(3, 3), stride=(1, 1), padding=(1, 1))\n",
       "    )\n",
       "    (conv): Conv2d(64, 128, kernel_size=(1, 1), stride=(1, 1))\n",
       "  )\n",
       "  (resnet_block2_1): ResNetBlock(\n",
       "    (network): Sequential(\n",
       "      (0): BatchNorm2d(128, eps=1e-05, momentum=0.1, affine=True, track_running_stats=True)\n",
       "      (1): ReLU()\n",
       "      (2): Conv2d(128, 128, kernel_size=(3, 3), stride=(1, 1), padding=(1, 1))\n",
       "      (3): BatchNorm2d(128, eps=1e-05, momentum=0.1, affine=True, track_running_stats=True)\n",
       "      (4): ReLU()\n",
       "      (5): Conv2d(128, 128, kernel_size=(3, 3), stride=(1, 1), padding=(1, 1))\n",
       "    )\n",
       "  )\n",
       "  (resnet_block2_2): ResNetBlockChangeDepth(\n",
       "    (network): Sequential(\n",
       "      (0): BatchNorm2d(128, eps=1e-05, momentum=0.1, affine=True, track_running_stats=True)\n",
       "      (1): ReLU()\n",
       "      (2): Conv2d(128, 256, kernel_size=(3, 3), stride=(1, 1), padding=(1, 1))\n",
       "      (3): BatchNorm2d(256, eps=1e-05, momentum=0.1, affine=True, track_running_stats=True)\n",
       "      (4): ReLU()\n",
       "      (5): Conv2d(256, 256, kernel_size=(3, 3), stride=(1, 1), padding=(1, 1))\n",
       "    )\n",
       "    (conv): Conv2d(128, 256, kernel_size=(1, 1), stride=(1, 1))\n",
       "  )\n",
       "  (resnet_block2_3): ResNetBlockChangeDepth(\n",
       "    (network): Sequential(\n",
       "      (0): BatchNorm2d(256, eps=1e-05, momentum=0.1, affine=True, track_running_stats=True)\n",
       "      (1): ReLU()\n",
       "      (2): Conv2d(256, 256, kernel_size=(3, 3), stride=(1, 1), padding=(1, 1))\n",
       "      (3): BatchNorm2d(256, eps=1e-05, momentum=0.1, affine=True, track_running_stats=True)\n",
       "      (4): ReLU()\n",
       "      (5): Conv2d(256, 256, kernel_size=(3, 3), stride=(1, 1), padding=(1, 1))\n",
       "    )\n",
       "    (conv): Conv2d(256, 256, kernel_size=(1, 1), stride=(1, 1))\n",
       "  )\n",
       "  (network): Sequential(\n",
       "    (0): Conv2d(3, 32, kernel_size=(5, 5), stride=(1, 1), padding=(2, 2), bias=False)\n",
       "    (1): BatchNorm2d(32, eps=1e-05, momentum=0.1, affine=True, track_running_stats=True)\n",
       "    (2): ReLU()\n",
       "    (3): MaxPool2d(kernel_size=2, stride=2, padding=0, dilation=1, ceil_mode=False)\n",
       "    (4): Conv2d(32, 64, kernel_size=(5, 5), stride=(1, 1), padding=(2, 2), bias=False)\n",
       "    (5): BatchNorm2d(64, eps=1e-05, momentum=0.1, affine=True, track_running_stats=True)\n",
       "    (6): ReLU()\n",
       "    (7): MaxPool2d(kernel_size=2, stride=2, padding=0, dilation=1, ceil_mode=False)\n",
       "    (8): Wrapper(\n",
       "      (func): ResNetBlock(\n",
       "        (network): Sequential(\n",
       "          (0): BatchNorm2d(64, eps=1e-05, momentum=0.1, affine=True, track_running_stats=True)\n",
       "          (1): ReLU()\n",
       "          (2): Conv2d(64, 64, kernel_size=(3, 3), stride=(1, 1), padding=(1, 1))\n",
       "          (3): BatchNorm2d(64, eps=1e-05, momentum=0.1, affine=True, track_running_stats=True)\n",
       "          (4): ReLU()\n",
       "          (5): Conv2d(64, 64, kernel_size=(3, 3), stride=(1, 1), padding=(1, 1))\n",
       "        )\n",
       "      )\n",
       "    )\n",
       "    (9): Wrapper(\n",
       "      (func): ResNetBlockChangeDepth(\n",
       "        (network): Sequential(\n",
       "          (0): BatchNorm2d(64, eps=1e-05, momentum=0.1, affine=True, track_running_stats=True)\n",
       "          (1): ReLU()\n",
       "          (2): Conv2d(64, 128, kernel_size=(3, 3), stride=(1, 1), padding=(1, 1))\n",
       "          (3): BatchNorm2d(128, eps=1e-05, momentum=0.1, affine=True, track_running_stats=True)\n",
       "          (4): ReLU()\n",
       "          (5): Conv2d(128, 128, kernel_size=(3, 3), stride=(1, 1), padding=(1, 1))\n",
       "        )\n",
       "        (conv): Conv2d(64, 128, kernel_size=(1, 1), stride=(1, 1))\n",
       "      )\n",
       "    )\n",
       "    (10): MaxPool2d(kernel_size=2, stride=2, padding=0, dilation=1, ceil_mode=False)\n",
       "    (11): Wrapper(\n",
       "      (func): ResNetBlock(\n",
       "        (network): Sequential(\n",
       "          (0): BatchNorm2d(128, eps=1e-05, momentum=0.1, affine=True, track_running_stats=True)\n",
       "          (1): ReLU()\n",
       "          (2): Conv2d(128, 128, kernel_size=(3, 3), stride=(1, 1), padding=(1, 1))\n",
       "          (3): BatchNorm2d(128, eps=1e-05, momentum=0.1, affine=True, track_running_stats=True)\n",
       "          (4): ReLU()\n",
       "          (5): Conv2d(128, 128, kernel_size=(3, 3), stride=(1, 1), padding=(1, 1))\n",
       "        )\n",
       "      )\n",
       "    )\n",
       "    (12): Wrapper(\n",
       "      (func): ResNetBlockChangeDepth(\n",
       "        (network): Sequential(\n",
       "          (0): BatchNorm2d(128, eps=1e-05, momentum=0.1, affine=True, track_running_stats=True)\n",
       "          (1): ReLU()\n",
       "          (2): Conv2d(128, 256, kernel_size=(3, 3), stride=(1, 1), padding=(1, 1))\n",
       "          (3): BatchNorm2d(256, eps=1e-05, momentum=0.1, affine=True, track_running_stats=True)\n",
       "          (4): ReLU()\n",
       "          (5): Conv2d(256, 256, kernel_size=(3, 3), stride=(1, 1), padding=(1, 1))\n",
       "        )\n",
       "        (conv): Conv2d(128, 256, kernel_size=(1, 1), stride=(1, 1))\n",
       "      )\n",
       "    )\n",
       "    (13): Wrapper(\n",
       "      (func): ResNetBlockChangeDepth(\n",
       "        (network): Sequential(\n",
       "          (0): BatchNorm2d(256, eps=1e-05, momentum=0.1, affine=True, track_running_stats=True)\n",
       "          (1): ReLU()\n",
       "          (2): Conv2d(256, 256, kernel_size=(3, 3), stride=(1, 1), padding=(1, 1))\n",
       "          (3): BatchNorm2d(256, eps=1e-05, momentum=0.1, affine=True, track_running_stats=True)\n",
       "          (4): ReLU()\n",
       "          (5): Conv2d(256, 256, kernel_size=(3, 3), stride=(1, 1), padding=(1, 1))\n",
       "        )\n",
       "        (conv): Conv2d(256, 256, kernel_size=(1, 1), stride=(1, 1))\n",
       "      )\n",
       "    )\n",
       "    (14): BatchNorm2d(256, eps=1e-05, momentum=0.1, affine=True, track_running_stats=True)\n",
       "    (15): ReLU()\n",
       "    (16): AvgPool2d(kernel_size=2, stride=2, padding=0)\n",
       "    (17): Flatten(start_dim=1, end_dim=-1)\n",
       "    (18): Linear(in_features=4096, out_features=50, bias=True)\n",
       "  )\n",
       ")"
      ]
     },
     "execution_count": 54,
     "metadata": {},
     "output_type": "execute_result"
    }
   ],
   "source": [
    "model = ResNet(3, 50)\n",
    "model.to(device)"
   ]
  },
  {
   "cell_type": "code",
   "execution_count": 55,
   "metadata": {},
   "outputs": [],
   "source": [
    "# RestNet +- 7epoch;; RestNet_2 +- 10epoch \"||\" z agumentacją + 30epch RestNet2\n",
    "epoch = 20\n",
    "optimizer = torch.optim.Adam(model.parameters(), lr=1e-3, weight_decay=1e-4)\n",
    "lr_scheduler = optim.lr_scheduler.OneCycleLR(optimizer, 6e-3, epochs=epoch, steps_per_epoch=int((len(dataset)/batch_size))) # int((len(train_dataset)/batch_size)"
   ]
  },
  {
   "cell_type": "code",
   "execution_count": 56,
   "metadata": {},
   "outputs": [
    {
     "data": {
      "text/plain": [
       "3025106"
      ]
     },
     "execution_count": 56,
     "metadata": {},
     "output_type": "execute_result"
    }
   ],
   "source": [
    "params_sum = 0\n",
    "for params in model.parameters():\n",
    "    params_sum+=params.view(-1).size(0)\n",
    "params_sum"
   ]
  },
  {
   "cell_type": "code",
   "execution_count": 57,
   "metadata": {},
   "outputs": [],
   "source": [
    "def eval(val_loader, model):\n",
    "        history = []\n",
    "        for input, label in val_loader:\n",
    "            history += [model.val_step(input, label)]\n",
    "\n",
    "        loss_val, acc_val = model.val_epoch_end(history)\n",
    "\n",
    "        return loss_val, acc_val"
   ]
  },
  {
   "cell_type": "code",
   "execution_count": 58,
   "metadata": {},
   "outputs": [],
   "source": [
    "torch.manual_seed(seed=torch.initial_seed())\n",
    "\n",
    "transform = transforms.RandomChoice(\n",
    "    [\n",
    "    transforms.RandomHorizontalFlip(0.5),\n",
    "    transforms.RandomVerticalFlip(0.5),\n",
    "    transforms.RandomRotation(degrees=(20, 60)),\n",
    "    transforms.RandomPerspective(distortion_scale=.35),\n",
    "\n",
    "    transforms.RandomErasing(0.5),\n",
    "\n",
    "    transforms.RandomInvert(0.5),\n",
    "    ]\n",
    ")"
   ]
  },
  {
   "cell_type": "code",
   "execution_count": 59,
   "metadata": {},
   "outputs": [],
   "source": [
    "def train(train_dataloader, epoch):\n",
    "    model.train(mode=True)\n",
    "\n",
    "    epoch_loss_T = []\n",
    "    batch_loss_T = []\n",
    "    epoch_loss_V = []\n",
    "    epoch_acc_V = []\n",
    "\n",
    "\n",
    "    for ep in range(epoch):\n",
    "\n",
    "        for input, label in train_dataloader:\n",
    "\n",
    "            transformed_input = transform(input)\n",
    "            loss = model.train_step(transformed_input, label)\n",
    "\n",
    "            optimizer.zero_grad()\n",
    "            loss.backward()\n",
    "\n",
    "            optimizer.step()\n",
    "            lr_scheduler.step()\n",
    "\n",
    "            batch_loss_T += [loss.item()]\n",
    "\n",
    "        epoch_loss_T += [np.mean(batch_loss_T)]\n",
    "        batch_loss_T = []\n",
    "\n",
    "        loss_val, acc_val = eval(val_loader, model)\n",
    "        epoch_loss_V += [loss_val]\n",
    "        epoch_acc_V += [acc_val]\n",
    "\n",
    "        print(f'Epoch {ep+1}; TLoss: {epoch_loss_T[ep]}; Vloss: {loss_val}; Acc: {acc_val}\\n')\n",
    "\n",
    "\n",
    "    model.eval()\n",
    "    return epoch_loss_T, epoch_loss_V, epoch_acc_V"
   ]
  },
  {
   "cell_type": "code",
   "execution_count": 60,
   "metadata": {},
   "outputs": [
    {
     "name": "stdout",
     "output_type": "stream",
     "text": [
      "Epoch 1; TLoss: 3.0431072766130622; Vloss: 2.600881814956665; Acc: 0.29488182067871094\n",
      "\n",
      "Epoch 2; TLoss: 2.610316122120077; Vloss: 2.405579090118408; Acc: 0.35707271099090576\n",
      "\n",
      "Epoch 3; TLoss: 2.410892524502494; Vloss: 2.0801923274993896; Acc: 0.43596363067626953\n",
      "\n",
      "Epoch 4; TLoss: 2.354255662723021; Vloss: 1.9815585613250732; Acc: 0.46995455026626587\n",
      "\n",
      "Epoch 5; TLoss: 2.0844499197873203; Vloss: 1.8308303356170654; Acc: 0.4986545443534851\n",
      "\n",
      "Epoch 6; TLoss: 1.8886111636053433; Vloss: 1.5771129131317139; Acc: 0.5616453886032104\n",
      "\n",
      "Epoch 7; TLoss: 1.796482573856007; Vloss: 1.4071190357208252; Acc: 0.6079545617103577\n",
      "\n",
      "Epoch 8; TLoss: 1.6499189043586904; Vloss: 1.3308464288711548; Acc: 0.6443272829055786\n",
      "\n",
      "Epoch 9; TLoss: 1.6069541505791924; Vloss: 1.287715196609497; Acc: 0.6485272645950317\n",
      "\n",
      "Epoch 10; TLoss: 1.4872621948068792; Vloss: 1.1389036178588867; Acc: 0.6788363456726074\n",
      "\n",
      "Epoch 11; TLoss: 1.4186736345291138; Vloss: 1.0982015132904053; Acc: 0.6957363486289978\n",
      "\n",
      "Epoch 12; TLoss: 1.3153180568055673; Vloss: 1.0071101188659668; Acc: 0.7082454562187195\n",
      "\n",
      "Epoch 13; TLoss: 1.160257106477564; Vloss: 0.8834490776062012; Acc: 0.754027247428894\n",
      "\n",
      "Epoch 14; TLoss: 1.0786116820844738; Vloss: 0.7466252446174622; Acc: 0.7929182052612305\n",
      "\n",
      "Epoch 15; TLoss: 0.9804626202041452; Vloss: 0.6088405847549438; Acc: 0.831318199634552\n",
      "\n",
      "Epoch 16; TLoss: 0.9190672290596095; Vloss: 0.5411517024040222; Acc: 0.8488181829452515\n",
      "\n",
      "Epoch 17; TLoss: 0.8359395688907667; Vloss: 0.45206910371780396; Acc: 0.8732181787490845\n",
      "\n",
      "Epoch 18; TLoss: 0.6752260588109493; Vloss: 0.36931881308555603; Acc: 0.8969181776046753\n",
      "\n",
      "Epoch 19; TLoss: 0.6747686114500869; Vloss: 0.3445785343647003; Acc: 0.9073182344436646\n",
      "\n",
      "Epoch 20; TLoss: 0.5842659276994792; Vloss: 0.33626115322113037; Acc: 0.9097182154655457\n",
      "\n"
     ]
    }
   ],
   "source": [
    "loss_T, loss_V, acc_V = train(full, epoch)"
   ]
  },
  {
   "cell_type": "code",
   "execution_count": 61,
   "metadata": {},
   "outputs": [
    {
     "data": {
      "image/png": "[encoded data removed]",
      "text/plain": [
       "<Figure size 640x480 with 1 Axes>"
      ]
     },
     "metadata": {},
     "output_type": "display_data"
    },
    {
     "data": {
      "image/png": "[encoded data removed]",
      "text/plain": [
       "<Figure size 640x480 with 1 Axes>"
      ]
     },
     "metadata": {},
     "output_type": "display_data"
    }
   ],
   "source": [
    "def plot_results(loss_T, loss_V, acc_V):\n",
    "\n",
    "    # fig = plt.figure\n",
    "    plt.plot(loss_T, label=\"Train\")\n",
    "    plt.plot(loss_V, label=\"Val\")\n",
    "    plt.title(\"Loss\")\n",
    "    plt.legend()\n",
    "    plt.show()\n",
    "\n",
    "    # fig2 = plt.figure\n",
    "    plt.plot(acc_V, label=\"Accuracy\")\n",
    "    plt.legend()\n",
    "    plt.show()\n",
    "\n",
    "plot_results(loss_T, loss_V, acc_V)"
   ]
  },
  {
   "cell_type": "code",
   "execution_count": 62,
   "metadata": {},
   "outputs": [],
   "source": [
    "model_name = str(epoch) + \"epoch_Final2.pt\"\n",
    "torch.save(model.state_dict(), model_name)"
   ]
  },
  {
   "cell_type": "markdown",
   "metadata": {},
   "source": [
    "### Trained models loading"
   ]
  },
  {
   "cell_type": "code",
   "execution_count": 63,
   "metadata": {},
   "outputs": [
    {
     "data": {
      "text/plain": [
       "<All keys matched successfully>"
      ]
     },
     "execution_count": 63,
     "metadata": {},
     "output_type": "execute_result"
    }
   ],
   "source": [
    "model_name = \"20epoch_Final2\"\n",
    "model1 = ResNet(3, 50)\n",
    "model1.to(device)\n",
    "model1.load_state_dict(torch.load(model_name + \".pt\"))"
   ]
  },
  {
   "cell_type": "code",
   "execution_count": 64,
   "metadata": {},
   "outputs": [
    {
     "name": "stdout",
     "output_type": "stream",
     "text": [
      "0.31787202 0.92326576\n",
      "0.33626115 0.9097182\n",
      "0.31883335 0.9227272\n"
     ]
    }
   ],
   "source": [
    "loss, acc = eval(train_loader, model1)\n",
    "print(loss, acc)\n",
    "loss, acc = eval(val_loader, model1)\n",
    "print(loss, acc)\n",
    "loss, acc = eval(full, model1)\n",
    "print(loss, acc)"
   ]
  },
  {
   "cell_type": "code",
   "execution_count": 65,
   "metadata": {},
   "outputs": [],
   "source": [
    "def preprocess_image(image_path):\n",
    "    transform = transforms.Compose(\n",
    "        [\n",
    "            transforms.ToTensor(),\n",
    "            transforms.Normalize([0.5, 0.5, 0.5], [0.5, 0.5, 0.5])\n",
    "        ]\n",
    "    )\n",
    "    image = Image.open(image_path)\n",
    "    if image.mode != 'RGB':\n",
    "        image = image.convert('RGB')\n",
    "    image = transform(image)\n",
    "    image = image.unsqueeze(0)  # batch dimension\n",
    "    return image"
   ]
  },
  {
   "cell_type": "code",
   "execution_count": 66,
   "metadata": {},
   "outputs": [],
   "source": [
    "def pred_save(image_dir):\n",
    "    results =[]\n",
    "    for filename in os.listdir(image_dir):\n",
    "        if filename.endswith(\".JPEG\"):\n",
    "\n",
    "            image_path = os.path.join(image_dir, filename)\n",
    "            image = preprocess_image(image_path)\n",
    "            image = image.to(device)\n",
    "            prediction = torch.argmax(model1(image), dim=1).cpu().item()\n",
    "\n",
    "            results.append([filename, prediction])\n",
    "\n",
    "    # Save results to CSV\n",
    "    csv_filename = \"predictions_\" + model_name\n",
    "    with open(csv_filename, mode='w', newline='') as file:\n",
    "        writer = csv.writer(file)\n",
    "        writer.writerows(results)\n"
   ]
  },
  {
   "cell_type": "code",
   "execution_count": 67,
   "metadata": {},
   "outputs": [],
   "source": [
    "image_dir = \"test_all\"\n",
    "pred_save(image_dir)"
   ]
  }
 ],
 "metadata": {
  "kernelspec": {
   "display_name": "Python 3",
   "language": "python",
   "name": "python3"
  },
  "language_info": {
   "codemirror_mode": {
    "name": "ipython",
    "version": 3
   },
   "file_extension": ".py",
   "mimetype": "text/x-python",
   "name": "python",
   "nbconvert_exporter": "python",
   "pygments_lexer": "ipython3",
   "version": "3.11.3"
  }
 },
 "nbformat": 4,
 "nbformat_minor": 2
}
